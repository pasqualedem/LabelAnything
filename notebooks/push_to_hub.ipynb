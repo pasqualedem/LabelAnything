{
 "cells": [
  {
   "cell_type": "code",
   "execution_count": 1,
   "metadata": {},
   "outputs": [],
   "source": [
    "from pathlib import Path\n",
    "import sys\n",
    "sys.path.append(str(Path.cwd().parent))\n",
    "sys.path.append(str(Path.cwd().parent / 'label_anything'))"
   ]
  },
  {
   "cell_type": "code",
   "execution_count": 2,
   "metadata": {},
   "outputs": [
    {
     "name": "stderr",
     "output_type": "stream",
     "text": [
      "/home/pasquale/projects/LabelAnything/.venv/lib/python3.12/site-packages/tqdm/auto.py:21: TqdmWarning: IProgress not found. Please update jupyter and ipywidgets. See https://ipywidgets.readthedocs.io/en/stable/user_install.html\n",
      "  from .autonotebook import tqdm as notebook_tqdm\n"
     ]
    }
   ],
   "source": [
    "# Pretty visualizations of tensors\n",
    "import lovely_tensors as lt\n",
    "lt.monkey_patch()\n",
    "\n",
    "from label_anything import LabelAnything\n",
    "from label_anything.utils.utils import torch_dict_load"
   ]
  },
  {
   "cell_type": "code",
   "execution_count": null,
   "metadata": {},
   "outputs": [
    {
     "name": "stderr",
     "output_type": "stream",
     "text": [
      "You are using a model of type vit_mae to instantiate a model of type vit. This is not supported for all configurations of models and can yield errors.\n",
      "Some weights of ViTModelWrapper were not initialized from the model checkpoint at facebook/vit-mae-base and are newly initialized: ['vit.pooler.dense.bias', 'vit.pooler.dense.weight']\n",
      "You should probably TRAIN this model on a down-stream task to be able to use it for predictions and inference.\n"
     ]
    }
   ],
   "source": [
    "# Manual loading of the model\n",
    "\n",
    "custom_preprocess = False\n",
    "checkpoint = \"checkpoints/coco/mae_480_coco.safetensors\"\n",
    "checkpoint = f\"../{checkpoint}\"\n",
    "encoder = \"vit_b_mae\"\n",
    "repo_path = \"label_anything_mae_480_coco.safetensors\"\n",
    "\n",
    "la_params = {\n",
    "      \"class_attention\": False,\n",
    "      \"embed_dim\": 256,\n",
    "      \"example_attention\": False,\n",
    "      \"example_class_attention\": False,\n",
    "      \"fusion_transformer\": \"TwoWayTransformer\",\n",
    "      \"image_embed_dim\": 768,\n",
    "      \"image_size\": 480,\n",
    "      \"name\": \"lam_no_vit\",\n",
    "      \"spatial_convs\": 3,\n",
    "}\n",
    "\n",
    "\n",
    "embed_dim = la_params[\"embed_dim\"]\n",
    "image_size = la_params[\"image_size\"]\n",
    "la_params.pop(\"name\")\n",
    "la_params[\"encoder\"] = encoder\n",
    "\n",
    "la = LabelAnything(\n",
    "    **la_params,\n",
    "    custom_preprocess=custom_preprocess\n",
    ")\n",
    "\n",
    "weights = torch_dict_load(checkpoint)\n",
    "# weights = {k[6:]: v for k, v in weights.items()}\n",
    "keys = la.load_state_dict(weights, strict=False)\n",
    "assert not keys.unexpected_keys, keys.unexpected_keys\n",
    "assert all(key.startswith(\"model.image_encoder\") for key in keys.missing_keys), keys.missing_keys"
   ]
  },
  {
   "cell_type": "code",
   "execution_count": 8,
   "metadata": {},
   "outputs": [
    {
     "name": "stderr",
     "output_type": "stream",
     "text": [
      "model.safetensors: 100%|██████████| 381M/381M [00:39<00:00, 9.66MB/s] \n"
     ]
    },
    {
     "data": {
      "text/plain": [
       "CommitInfo(commit_url='https://huggingface.co/pasqualedem/label_anything_coco_fold0_mae_7a5p0t63/commit/7a8e95350f27d2a254e3b6c5547b777631c211ca', commit_message='Push model using huggingface_hub.', commit_description='', oid='7a8e95350f27d2a254e3b6c5547b777631c211ca', pr_url=None, repo_url=RepoUrl('https://huggingface.co/pasqualedem/label_anything_coco_fold0_mae_7a5p0t63', endpoint='https://huggingface.co', repo_type='model', repo_id='pasqualedem/label_anything_coco_fold0_mae_7a5p0t63'), pr_revision=None, pr_num=None)"
      ]
     },
     "execution_count": 8,
     "metadata": {},
     "output_type": "execute_result"
    }
   ],
   "source": [
    "la.push_to_hub(repo_path)"
   ]
  },
  {
   "cell_type": "code",
   "execution_count": null,
   "metadata": {},
   "outputs": [],
   "source": []
  }
 ],
 "metadata": {
  "kernelspec": {
   "display_name": "labelanything",
   "language": "python",
   "name": "python3"
  },
  "language_info": {
   "codemirror_mode": {
    "name": "ipython",
    "version": 3
   },
   "file_extension": ".py",
   "mimetype": "text/x-python",
   "name": "python",
   "nbconvert_exporter": "python",
   "pygments_lexer": "ipython3",
   "version": "3.12.10"
  }
 },
 "nbformat": 4,
 "nbformat_minor": 2
}
